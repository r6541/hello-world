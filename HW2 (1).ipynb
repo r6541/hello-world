{
  "nbformat": 4,
  "nbformat_minor": 0,
  "metadata": {
    "colab": {
      "provenance": [],
      "collapsed_sections": [
        "_kuVRsJkAh9n"
      ]
    },
    "kernelspec": {
      "name": "python3",
      "display_name": "Python 3"
    },
    "language_info": {
      "name": "python"
    }
  },
  "cells": [
    {
      "cell_type": "markdown",
      "source": [
        "**Revision**\n",
        "Hypothesis Testing Review\n",
        "- One Category (e.g. percent of flowers that are purple)\n",
        "  - Test Statistic (1): empirical_percentage\n",
        "  - Test Statistic (1): abs(empirical_percentage - null_percentage)\n",
        "  - How to Simulate: sample_proportions(n, null_dist)\n",
        "- Multiple Categories (e.g. color distribution of pea plants)\n",
        "  - Test Statistic: tvd(empirical_dist, null_dist)\n",
        "  - How to Simulate: sample_proportions(n, null_dist)\n",
        "- Numerical Data (e.g. scores in a class section)\n",
        "  - Test Statistic: empirical_mean\n",
        "  - How to Simulate: population_data.sample(n, with_replacement=False)"
      ],
      "metadata": {
        "id": "bEtXiTwI-yIv"
      }
    },
    {
      "cell_type": "markdown",
      "source": [],
      "metadata": {
        "id": "Co2z5dBT_bhb"
      }
    },
    {
      "cell_type": "markdown",
      "source": [
        "given a csv file containing longitude, latitude , and pm10  columns [Air Quality data](https://raw.githubusercontent.com/IsamAljawarneh/datasets/master/data/NYC_PM.csv) representing readings of low cost air quality sensor mounted on moving vehicles, in addition to a geojson file containing polygons representing administrative divisions of NYC city known as neighbourhoods [nyc_polygon.geojson](https://raw.githubusercontent.com/IsamAljawarneh/datasets/master/data/nyc_polygon.geojson). Then based on the combined data, consider the following formulation of a hypothesis testing problem depending on the average value of pm10 of <font color='red'>Belmont</font> neighbourhood, describing exactly what would be a null hypothesis and the alternative hypothesis.\n",
        "\n",
        "Hypothesis Testing Problem:\n",
        "\n",
        "### **Null Hypothesis (H0)**: The average PM10 value in the ```Belmont``` neighborhood is equal to a specified reference value (e.g., the city-wide average PM10 level).\n",
        "\n",
        "## **Alternative Hypothesis (H1):** The average PM10 value in the Belmont neighborhood is significantly different from the specified reference value.\n",
        "\n",
        "In other terms:\n",
        "***hypthesis***\n",
        "* ***Null*** Hypothesis: picking up a neighbourhood at random from neighbourhoods, the average PM10 would be similar to Belmont's neighbourhood average\n",
        "* ***Alternative*** Hypothesis: the average pm10 in Belmont's is too divergent that randomness is not the only reason for those divergent values\n",
        "\n",
        "Explanation:\n",
        "\n",
        "The null hypothesis (H0) posits that there is no significant difference between the average PM10 level observed in the Belmont neighborhood and a specified reference value (consider it to be the ***city-wide*** average PM10 level or any other predetermined benchmark). This implies that any observed difference in the average PM10 value of Belmont compared to the reference value is due to random chance or natural variability in air quality measurements.\n",
        "\n",
        "Conversely, the alternative hypothesis (H1) suggests that there is a significant difference between the average PM10 level observed in the ```Belmont``` neighborhood and the reference value. This indicates that the observed average PM10 value of Belmont deviates from what would be expected based on random chance alone, indicating potential spatial disparities or differences in air quality specifically within the Belmont neighborhood.\n",
        "\n",
        "# **You need to do the following tasks to decide between the two hypothesis, null and alternative, based on the data that you have!**"
      ],
      "metadata": {
        "id": "MnPCkUN9-lzy"
      }
    },
    {
      "cell_type": "markdown",
      "source": [
        "# **part - A** preprocessing [1.5 marks]\n",
        "\n",
        "do all tasks and the subtasks!"
      ],
      "metadata": {
        "id": "_kuVRsJkAh9n"
      }
    },
    {
      "cell_type": "markdown",
      "source": [
        "###1. Among those above  \n",
        "Which test statistic you would choose and why?\n"
      ],
      "metadata": {
        "id": "zJ7WyMej_h7p"
      }
    },
    {
      "cell_type": "markdown",
      "source": [
        "import necessary libraries"
      ],
      "metadata": {
        "id": "9o9eM8IICM-1"
      }
    },
    {
      "cell_type": "markdown",
      "source": [
        "###2. Read the CSV file containing PM10 sensor readings\n",
        " & Read the GeoJSON file containing neighborhood boundaries into a GeoDataFrame"
      ],
      "metadata": {
        "id": "11VvbD-a6ur8"
      }
    },
    {
      "cell_type": "code",
      "source": [
        "pm10_data.dtypes"
      ],
      "metadata": {
        "id": "VAMLIDAKu289"
      },
      "execution_count": null,
      "outputs": []
    },
    {
      "cell_type": "markdown",
      "source": [
        "###3. convert the csv into a geodataframe and join it (sjoin) with the geojson, assign a coordinate reference system (CRS) the csv geodataframe which is identical to that of the geojson file, then perform the join, the result is a geodataframe, convert it to dataframe, and select pm10, neighborhood columns in a new dataframe"
      ],
      "metadata": {
        "id": "tKKuGLIl682s"
      }
    },
    {
      "cell_type": "markdown",
      "source": [
        "4. you need to convert</h1></section> from dataframe to Datascience Table. Use the following format: ```Table.from_df(df, keep_index=False)``` read more here\n",
        "[create DS Table from DF](https://www.data8.org/datascience/_autosummary/datascience.tables.Table.from_df.html)\n",
        "\n",
        "**N.B.** <font color='red'>from this word upwards, perform all tasks using the table abstraction as we have learned in the class!</font>"
      ],
      "metadata": {
        "id": "ajH-jZyp8neJ"
      }
    },
    {
      "cell_type": "markdown",
      "source": [
        "the following is the opposite:\n",
        "\n",
        "[Table.to_df](https://www.data8.org/datascience/_autosummary/datascience.tables.Table.to_df.html)"
      ],
      "metadata": {
        "id": "ansU7tkQ9cj5"
      }
    },
    {
      "cell_type": "markdown",
      "source": [
        "what is the maximum pm10 value"
      ],
      "metadata": {
        "id": "2zHvKSpo7nX0"
      }
    },
    {
      "cell_type": "markdown",
      "source": [
        "what is the maximum pm10 value"
      ],
      "metadata": {
        "id": "RgKB2UJo7rWW"
      }
    },
    {
      "cell_type": "markdown",
      "source": [
        "show the first few rows of the table?"
      ],
      "metadata": {
        "id": "KsUXysj_B1T9"
      }
    },
    {
      "cell_type": "markdown",
      "source": [
        "print minimum and maximum pm10 values?"
      ],
      "metadata": {
        "id": "zgAZOxbYB56N"
      }
    },
    {
      "cell_type": "markdown",
      "source": [
        "###5. using table abstraction, draw histogram of the pm10 values? which binning you can use? in addition to sub-tasks that follow\n",
        "you should obtain figure similar to the one attached (assignment2_fig1)"
      ],
      "metadata": {
        "id": "TdamjDqe7vYk"
      }
    },
    {
      "cell_type": "markdown",
      "source": [
        "<font color='red'>attention</font>\n",
        "\n",
        "remove pm10 values that are unreasonably high (above 10000 µg/m³)"
      ],
      "metadata": {
        "id": "YOHDsSGa45yg"
      }
    },
    {
      "cell_type": "markdown",
      "source": [
        "what is the number of rows after removing outliers"
      ],
      "metadata": {
        "id": "P5gHFQS577Fr"
      }
    },
    {
      "cell_type": "markdown",
      "source": [
        "group by neigborhood"
      ],
      "metadata": {
        "id": "aKDvHjkE8Ass"
      }
    },
    {
      "cell_type": "markdown",
      "source": [
        "what is the average pm10 for each neighborhood"
      ],
      "metadata": {
        "id": "Ua4eGcuS8GWC"
      }
    },
    {
      "cell_type": "markdown",
      "source": [
        "what is the maximum and minimum average pm10 after removing outliers"
      ],
      "metadata": {
        "id": "i9uXeb3h8MoW"
      }
    },
    {
      "cell_type": "markdown",
      "source": [
        "focus on\n",
        "\n",
        "```\n",
        "Belmont\n",
        "```\n",
        "for analysis that follows\n"
      ],
      "metadata": {
        "id": "8NRwF5vjr69M"
      }
    },
    {
      "cell_type": "markdown",
      "source": [
        "# **part - B** Testing Hypothesis [3.5 marks]\n",
        "\n",
        "do all tasks, in addition to the subtasks that follow!"
      ],
      "metadata": {
        "id": "mtReCixnFTv-"
      }
    },
    {
      "cell_type": "markdown",
      "source": [
        "# 6. compute the observed statistic\n",
        "Belmont's pm10 average\n",
        "\n"
      ],
      "metadata": {
        "id": "aLObb1ehsV7A"
      }
    },
    {
      "cell_type": "markdown",
      "source": [
        "# 7. compute the sample size (Belmont's population count)"
      ],
      "metadata": {
        "id": "gJ3NI69Lsb5i"
      }
    },
    {
      "cell_type": "markdown",
      "source": [
        "# 8. build a simulated test statistic. take a random sample of pm10 of size equal to sample_size\n",
        "store the result in an array, then compute the test statistic (the average of those pm10 values)"
      ],
      "metadata": {
        "id": "61tN4cYRs198"
      }
    },
    {
      "cell_type": "markdown",
      "source": [
        "# 9. simulate one value of the test statistic, under null hypothesis (that the Belmont's pm10 values is like a random sample from the distribution)\n",
        "declare a method random_sample_average that takes on one argument (sample_size), draw a random sample of size sample_size from the pm10 values and returns the average pm10 of the sample\n",
        "then test the method many times with random_sample size that is equal to Belmont sample_size (population)"
      ],
      "metadata": {
        "id": "1I1x5rA4vF2H"
      }
    },
    {
      "cell_type": "markdown",
      "source": [
        "# 10. perform a simulation\n",
        "* to run the trial many times , repititions = 5000 number of times\n",
        "simulate 5000 copies of the test statistic\n",
        "* create an empty array that will contain the sample average for each of the trials\n",
        "* create for loop\n",
        "* call random_sample_average(sample_size) to calculate pm10 average of the sample for that trial\n",
        "* append the new test statistic to the empty array"
      ],
      "metadata": {
        "id": "1K5NzQyevwlb"
      }
    },
    {
      "cell_type": "markdown",
      "source": [
        "# 11. make a decision regarding the hypothesis\n",
        "* compare the simulated distribution of the statistic and the actual (observed statistic)\n",
        "  * creat a table containing the sample averages\n",
        "* plot a histogram of the sample averages with number of bins\n",
        "  * Remember: the histogram is the empirical distribution of the test statistic under the null hypothesis. It is like all of our simulated values\n",
        "  * plot a red dot of size 120 at vertical coordinate -0.01, which is just under the horizontal axis exactly covering the location of the observed statistic\n",
        "\n",
        "  you should obtain a graph similar to one shown in assignment2_figure2\n",
        "   attached!\n"
      ],
      "metadata": {
        "id": "MKbiXOK1wdKk"
      }
    },
    {
      "cell_type": "markdown",
      "source": [
        "Compute the p-value"
      ],
      "metadata": {
        "id": "oLdbJbyoHcWR"
      }
    },
    {
      "cell_type": "markdown",
      "source": [
        "Decide whether neighborhood averages are very different from other neighborhoods, and explain?"
      ],
      "metadata": {
        "id": "zT2JP-ldHkC1"
      }
    },
    {
      "cell_type": "markdown",
      "source": [
        "# 12. how to decide?\n",
        "* consider a 0.05 P-value threshold\n",
        "* compute how many of simulated sample averages in the histogram are less than or equal to the observed average (observed statistic)?\n",
        " * use either sum or np.count_nonzero\n",
        "* calculate the p-value (the probability of obtaining results at least as extreme as the observed value). In other terms, simulation area beyond observed value\n",
        "  * remeber p-value (the tail probability) is the ratio of the tail count over number of repititions in your simulation\n",
        "  * Remember: the histogram is the empirical distribution of the test statistic under the null hypothesis. It is like all of our simulated values\n",
        "  * so, you want to check how many of those are less than or equal to the observed value\n",
        "* is the value that you have got less than or equal to the p-value threshold(0.05)\n",
        "  * in either way, can you reject the null hypothesis, or otherwise fail to reject the null hypothesis. Based on the caclulated p-value?\n"
      ],
      "metadata": {
        "id": "Q39LMXlfAiTI"
      }
    },
    {
      "cell_type": "markdown",
      "source": [
        "**draw a gold vertical line representing the cut-off p-value (0.05), you should obtain a figure similar to assignment2_figure3**"
      ],
      "metadata": {
        "id": "gs7N0j3KJrzl"
      }
    }
  ]
}